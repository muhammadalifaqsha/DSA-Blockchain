{
 "cells": [
  {
   "cell_type": "code",
   "execution_count": 1,
   "metadata": {},
   "outputs": [],
   "source": [
    "from hashlib import sha256\n",
    "import openpyxl\n",
    "import time"
   ]
  },
  {
   "cell_type": "code",
   "execution_count": 2,
   "metadata": {},
   "outputs": [],
   "source": [
    "# Menambahkan transaksi mining dari COINBASE ke miner pada blok yang berusaha ditambahkan\n",
    "wb = openpyxl.load_workbook('newblock.xlsx')\n",
    "ws = wb.worksheets[0]\n",
    "inp = \"COINBASE\"\n",
    "outp = [[1050044712949807662371953614880006555363, 25]]\n",
    "rows = [[\"COINBASE\", str(outp), sha256((str(inp)+str(outp)).encode('utf8')).hexdigest()]]\n",
    "for row in rows:\n",
    "    ws.append(row)\n",
    "wb.save('newblock.xlsx')"
   ]
  },
  {
   "cell_type": "code",
   "execution_count": 3,
   "metadata": {},
   "outputs": [],
   "source": [
    "# Threshold integer dari hash\n",
    "threshold = 2**250"
   ]
  },
  {
   "cell_type": "code",
   "execution_count": 4,
   "metadata": {},
   "outputs": [
    {
     "name": "stdout",
     "output_type": "stream",
     "text": [
      "Your block wins with nonce = 95 in 0.04069372415542603 minutes \n"
     ]
    }
   ],
   "source": [
    "# Mencari nonce\n",
    "nonce = 0\n",
    "isTrue = False\n",
    "start_time = time.time()\n",
    "while isTrue == False:\n",
    "    wb = openpyxl.load_workbook('newblock.xlsx')\n",
    "    ws = wb.worksheets[0]\n",
    "    ws['B1'] = nonce\n",
    "    wb.save('newblock.xlsx')\n",
    "    with open(\"newblock.xlsx\", \"rb\") as f:\n",
    "        bytes = f.read() # read entire file as bytes\n",
    "        block_hash = sha256(bytes).hexdigest()\n",
    "    isTrue = int(block_hash, 16) < threshold\n",
    "    nonce += 1\n",
    "end_time = time.time()\n",
    "nonce = nonce - 1\n",
    "print(\"Your block wins with nonce = \" + str(nonce) + \" in \" + str((end_time - start_time)/60) + \" minutes \")"
   ]
  },
  {
   "cell_type": "code",
   "execution_count": 5,
   "metadata": {},
   "outputs": [],
   "source": [
    "from os import rename\n",
    "from os import path\n",
    "from os import getcwd"
   ]
  },
  {
   "cell_type": "code",
   "execution_count": 6,
   "metadata": {},
   "outputs": [],
   "source": [
    "# Mengubah nama file newblock.xlsx menjadi hash block tersebut\n",
    "oldfile = path.join(getcwd(), \"newblock.xlsx\")\n",
    "newfile = path.join(getcwd(), block_hash+\".xlsx\")\n",
    "rename(oldfile, newfile)"
   ]
  },
  {
   "cell_type": "code",
   "execution_count": 7,
   "metadata": {},
   "outputs": [
    {
     "name": "stdout",
     "output_type": "stream",
     "text": [
      "\n",
      "Block of hash 01d1935e490945ce774c048ff38bd3a56a3fcb57f9045a23340cfb6d4ce52355\n",
      "\n",
      "Hash of previous block: 131dbbce60547c93b8fdb80b973c62f0c471619a44ed46ed711f1470f7c6d0cc\n",
      "Nonce: 95.0\n",
      "\n",
      "Transaction 1\n",
      "From: 793833148500065718802366039211618163182\n",
      "To & Amount: [[498063637122669310186914979135247239947, 35], [793833148500065718802366039211618163182, 15]]\n",
      "Hash: 3114d9838781b5d2ef9b9abaee6bc7e1531345098fcf109d7968e8710392c377\n",
      "\n",
      "Transaction 2\n",
      "From: COINBASE\n",
      "To & Amount: [[1050044712949807662371953614880006555363, 25]]\n",
      "Hash: 1bbdfaaa54418b4a4f68e3287353d9ffee46d12f1af48e019769c1ec440cb156\n",
      "\n",
      "\n"
     ]
    }
   ],
   "source": [
    "import xlrd\n",
    "\n",
    "wb = xlrd.open_workbook(block_hash + \".xlsx\")\n",
    "sheet = wb.sheet_by_index(0)\n",
    "printed_block = \"\\n\" + \"Block of hash \" + block_hash + \"\\n\" + \"\\n\"\n",
    "printed_block += \"Hash of previous block: \" + sheet.row_values(0)[0] + \"\\n\"\n",
    "printed_block += \"Nonce: \" + str(sheet.row_values(0)[1]) + \"\\n\" + \"\\n\"\n",
    "for row in range(1, sheet.nrows):\n",
    "    printed_block += \"Transaction \" + str(row) + \"\\n\"\n",
    "    printed_block += \"From: \" + str(sheet.row_values(row)[0]) + \"\\n\"\n",
    "    printed_block += \"To & Amount: \" + str(sheet.row_values(row)[1]) + \"\\n\"\n",
    "    printed_block += \"Hash: \" + sheet.row_values(row)[2] + \"\\n\" + \"\\n\"\n",
    "print(printed_block)"
   ]
  },
  {
   "cell_type": "code",
   "execution_count": 8,
   "metadata": {},
   "outputs": [],
   "source": [
    "# Menambahkan transaksi mining di mana miner menerima 25 koin ke unspent transactions\n",
    "wb = openpyxl.load_workbook('unspent.xlsx')\n",
    "ws = wb.worksheets[0]\n",
    "rows = [[sha256((str(inp)+str(outp)).encode('utf8')).hexdigest(), str(outp)]]\n",
    "for row in rows:\n",
    "    ws.append(row)\n",
    "wb.save('unspent.xlsx')"
   ]
  },
  {
   "cell_type": "code",
   "execution_count": 9,
   "metadata": {},
   "outputs": [],
   "source": [
    "# Membuat blok kosong selanjutnya yang berisi hash blok yang berhasil ditambahkan di atas\n",
    "book = openpyxl.Workbook()\n",
    "sheet = book.active\n",
    "\n",
    "sheet['A1'] = block_hash\n",
    "\n",
    "book.save(\"newblock.xlsx\")"
   ]
  }
 ],
 "metadata": {
  "kernelspec": {
   "display_name": "Python 3",
   "language": "python",
   "name": "python3"
  },
  "language_info": {
   "codemirror_mode": {
    "name": "ipython",
    "version": 3
   },
   "file_extension": ".py",
   "mimetype": "text/x-python",
   "name": "python",
   "nbconvert_exporter": "python",
   "pygments_lexer": "ipython3",
   "version": "3.7.4"
  }
 },
 "nbformat": 4,
 "nbformat_minor": 2
}
