{
 "cells": [
  {
   "cell_type": "code",
   "execution_count": 1,
   "metadata": {},
   "outputs": [],
   "source": [
    "from hashlib import sha256\n",
    "import openpyxl\n",
    "import xlrd\n",
    "from ast import literal_eval"
   ]
  },
  {
   "cell_type": "code",
   "execution_count": 2,
   "metadata": {},
   "outputs": [],
   "source": [
    "# Parameter publik untuk DSA\n",
    "p = 1116674246425835791186763484099851270363\n",
    "q = 558337123212917895593381742049925635181\n",
    "g = 606189179136508625129240953541620883235"
   ]
  },
  {
   "cell_type": "code",
   "execution_count": 3,
   "metadata": {},
   "outputs": [],
   "source": [
    "def Verify(outphash,A,sign):\n",
    "    \"\"\" Verifikasi transaksi dalam bentuk outphash dengan address pengirim adalah A dan tandatangan sign = S1, S2\n",
    "    \"\"\"\n",
    "    global p\n",
    "    global q\n",
    "    global g\n",
    "    D = int(outphash, 16)\n",
    "    S1 = sign[0]\n",
    "    S2 = sign[1]\n",
    "    V1 = (D*pow(S2,q-2,q))%q #S2^(q-2) = S2^(-1) mod q\n",
    "    V2 = (S1*pow(S2,q-2,q))%q\n",
    "    return ((pow(g,V1,p)*pow(A,V2,p))%p)%q == S1 #signature diverifikasi benar jikka persamaan di samping bernilai benar"
   ]
  },
  {
   "cell_type": "code",
   "execution_count": 4,
   "metadata": {},
   "outputs": [],
   "source": [
    "def is_inp_there(path, inp):\n",
    "    \"\"\" Mencari apakah suatu hash input terdapat pada daftar unspent transactions\n",
    "    dan memberikan nomor baris beserta data pada baris tersebut\n",
    "    \"\"\"\n",
    "    wb = xlrd.open_workbook(path)\n",
    "    sheet = wb.sheet_by_index(0)\n",
    "\n",
    "    isThere = False\n",
    "    for row_num in range(sheet.nrows):\n",
    "        row_data = sheet.row_values(row_num)\n",
    "        if row_data[0] == inp:\n",
    "            isThere = True\n",
    "            break\n",
    "    return isThere, row_num, row_data"
   ]
  },
  {
   "cell_type": "code",
   "execution_count": 5,
   "metadata": {},
   "outputs": [
    {
     "name": "stdout",
     "output_type": "stream",
     "text": [
      "\n",
      "Unspent hash to be transferred: 1a428822908b32a273d294ad9a2a30e79b4a812d5f79cb98b73f4c406a1a3643\n",
      "Index: 0\n",
      "Transfer to: [[498063637122669310186914979135247239947, 35], [793833148500065718802366039211618163182, 15]]\n",
      "Signature: [70960175482105270864450914338080137500, 3417003949243264545771660781961748864]\n",
      "Hash: 3114d9838781b5d2ef9b9abaee6bc7e1531345098fcf109d7968e8710392c377\n",
      "Transaction is verified \n",
      "\n"
     ]
    }
   ],
   "source": [
    "wb = xlrd.open_workbook(\"awaiting.xlsx\")\n",
    "sheet = wb.sheet_by_index(0)\n",
    "\n",
    "for row_number in range(sheet.nrows):\n",
    "    inp = sheet.row_values(row_number)[0]\n",
    "    inpidx = int(sheet.row_values(row_number)[1])\n",
    "    outp = literal_eval(sheet.row_values(row_number)[2])\n",
    "    sign = literal_eval(sheet.row_values(row_number)[4])\n",
    "    hash0 = sha256((str(inp)+str(inpidx)+str(outp)).encode('utf8')).hexdigest()\n",
    "    print(\"\\n\" + \"Unspent hash to be transferred: \" + inp + \"\\n\"\n",
    "          + \"Index: \" + str(inpidx) +\"\\n\"\n",
    "          + \"Transfer to: \" + str(outp) + \"\\n\"\n",
    "          + \"Signature: \" + str(sign) + \"\\n\"\n",
    "          + \"Hash: \" + hash0)\n",
    "    transaction_sum = 0\n",
    "    for i in range (0,len(outp)):\n",
    "        transaction_sum += outp[i][1]\n",
    "    isThere, row_num, row_data = is_inp_there(\"unspent.xlsx\", inp)\n",
    "    unspent_owners = literal_eval(row_data[1])\n",
    "    isUnspent = isThere & (inpidx >= 0) & (inpidx < len(unspent_owners)) & (unspent_owners[inpidx] != 0)\n",
    "    if isUnspent == False:\n",
    "        print(\"Input is not verified \\n\")\n",
    "    else:\n",
    "        sender_address = unspent_owners[inpidx][0]\n",
    "        if transaction_sum > unspent_owners[inpidx][1]:\n",
    "            print(\"Transaction amount exceed unspent amount \\n\")\n",
    "        else:\n",
    "            if Verify(hash0,sender_address,sign) == False:\n",
    "                print(\"Signature is not verified \\n\")\n",
    "            else:\n",
    "                print('Transaction is verified \\n') \n",
    "                #Menghapus transaksi yang dipakai untuk input dari unspent output\n",
    "                unspent_owners[inpidx] = 0\n",
    "                wb = openpyxl.load_workbook('unspent.xlsx')\n",
    "                ws = wb.worksheets[0]\n",
    "                ws.cell(row=row_num+1, column=2).value = str(unspent_owners)\n",
    "                #Menambahkan transaksi baru ke unspent output\n",
    "                rows = [[hash0, str(outp)]]\n",
    "                for row in rows:\n",
    "                    ws.append(row)\n",
    "                wb.save('unspent.xlsx')\n",
    "                wb = openpyxl.load_workbook('newblock.xlsx')\n",
    "                ws = wb.worksheets[0]\n",
    "                rows = [[str(sender_address), str(outp), hash0]]\n",
    "                for row in rows:\n",
    "                    ws.append(row)\n",
    "                wb.save('newblock.xlsx')"
   ]
  },
  {
   "cell_type": "code",
   "execution_count": 6,
   "metadata": {},
   "outputs": [],
   "source": [
    "#Menghapus transaksi dari awaiting list\n",
    "book = openpyxl.Workbook()\n",
    "sheet = book.active\n",
    "\n",
    "book.save(\"awaiting.xlsx\")"
   ]
  }
 ],
 "metadata": {
  "kernelspec": {
   "display_name": "Python 3",
   "language": "python",
   "name": "python3"
  },
  "language_info": {
   "codemirror_mode": {
    "name": "ipython",
    "version": 3
   },
   "file_extension": ".py",
   "mimetype": "text/x-python",
   "name": "python",
   "nbconvert_exporter": "python",
   "pygments_lexer": "ipython3",
   "version": "3.7.4"
  }
 },
 "nbformat": 4,
 "nbformat_minor": 2
}
