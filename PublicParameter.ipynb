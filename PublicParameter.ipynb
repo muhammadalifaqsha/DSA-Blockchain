{
 "cells": [
  {
   "cell_type": "code",
   "execution_count": 1,
   "metadata": {},
   "outputs": [],
   "source": [
    "import sympy\n",
    "import random"
   ]
  },
  {
   "cell_type": "code",
   "execution_count": 7,
   "metadata": {},
   "outputs": [],
   "source": [
    "# Algoritma penentuan parameter publik p, q, dan q\n",
    "\n",
    "def GeneratePrimePair():\n",
    "    \"\"\" Fungsi yang membangkitkan bilangan prima p dan q\n",
    "    dengan p = 2q + 1 sehingga p = 1 mod q\n",
    "    \"\"\"\n",
    "    ispairprime = False\n",
    "    while ispairprime == False:\n",
    "        q = random.randint(2**128, 2**129)\n",
    "        if sympy.isprime(q) == True:\n",
    "            if sympy.isprime(2*q+1) == True:\n",
    "                p = 2*q+1\n",
    "                ispairprime = True\n",
    "    return p, q\n",
    "\n",
    "def GenerateElement(p, q):\n",
    "    \"\"\"Meng-generate bilangan g yang memiliki orde q pada modulo p\n",
    "    Perhatikan bahwa p = 2q+1, sehingga untuk setiap t di Z_p*, (t^2)^q = t^(2q) = t^(p-1) = 1 mod p\n",
    "    Jika t^2 != 0 atau 1 mod p, maka t^2 berorde tepat q, karena jika r orde dari t^2, haruslah r habis membagi q\n",
    "    Maka, r = 1 atau q. Tapi, t^2 != 1 mod p, sehingga haruslah r = p\n",
    "    \"\"\"\n",
    "    t = random.randint(1, p-1)\n",
    "    # pow(a,e,b) menghasilkan a^e modulo b\n",
    "    # fungsi pow(a,e,b) digunakan karena jauh lebih efisien dibandingkan memangkatkan a^e, kemudian dimodulo b-kan.\n",
    "    g = pow(t,2,p)\n",
    "    while g == 1: \n",
    "        t = random.randint(1, p-1)\n",
    "        g = pow(t,2,p)\n",
    "    return g"
   ]
  },
  {
   "cell_type": "code",
   "execution_count": 11,
   "metadata": {},
   "outputs": [
    {
     "name": "stdout",
     "output_type": "stream",
     "text": [
      "1116674246425835791186763484099851270363 558337123212917895593381742049925635181\n"
     ]
    }
   ],
   "source": [
    "p, q = GeneratePrimePair()\n",
    "print(p, q)"
   ]
  },
  {
   "cell_type": "code",
   "execution_count": 12,
   "metadata": {},
   "outputs": [
    {
     "name": "stdout",
     "output_type": "stream",
     "text": [
      "606189179136508625129240953541620883235\n"
     ]
    }
   ],
   "source": [
    "g = GenerateElement(p, q)\n",
    "print(g)"
   ]
  }
 ],
 "metadata": {
  "kernelspec": {
   "display_name": "Python 3",
   "language": "python",
   "name": "python3"
  },
  "language_info": {
   "codemirror_mode": {
    "name": "ipython",
    "version": 3
   },
   "file_extension": ".py",
   "mimetype": "text/x-python",
   "name": "python",
   "nbconvert_exporter": "python",
   "pygments_lexer": "ipython3",
   "version": "3.7.4"
  }
 },
 "nbformat": 4,
 "nbformat_minor": 2
}
