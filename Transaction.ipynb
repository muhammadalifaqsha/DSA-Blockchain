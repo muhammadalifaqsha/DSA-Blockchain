{
 "cells": [
  {
   "cell_type": "code",
   "execution_count": 1,
   "metadata": {},
   "outputs": [],
   "source": [
    "from hashlib import sha256\n",
    "from random import randint"
   ]
  },
  {
   "cell_type": "code",
   "execution_count": 2,
   "metadata": {},
   "outputs": [],
   "source": [
    "# Parameter publik pada DSA\n",
    "p = 1116674246425835791186763484099851270363\n",
    "q = 558337123212917895593381742049925635181\n",
    "g = 606189179136508625129240953541620883235"
   ]
  },
  {
   "cell_type": "code",
   "execution_count": 3,
   "metadata": {},
   "outputs": [],
   "source": [
    "class Transaction:\n",
    "    def __init__(self, inp, inpidx, inpkey, outp):\n",
    "        self.inp = inp # hash dari unspent transaction yang ingin dibelanjakan\n",
    "        self.inpidx = inpidx # indeks dari unspent transaction di atas yang ingin dibelanjakan\n",
    "        self.inpkey = inpkey # kunci privat yang diasosiasikan dengan pemilik unspent transaction dengan indeks di atas\n",
    "        self.outp = outp # penerima yang dituju & jumlah koin yang ingin ditransfer\n",
    "        self.toBeHashed = str(self.inp) + str(self.inpidx) + str(self.outp) #informasi transaksi yang akan di-hash\n",
    "        self.hash = sha256(self.toBeHashed.encode('utf8')).hexdigest()\n",
    "        global p\n",
    "        global q\n",
    "        global g\n",
    "        # Tanda tangan digital dengan DSA\n",
    "        D = int(self.hash, 16)\n",
    "        k = randint(2, q-1)\n",
    "        S1 = pow(g,k,p)%q\n",
    "        S2 = (D+self.inpkey*S1)*(pow(k,q-2,q))%q\n",
    "        self.sign = [S1, S2]\n",
    "    def __str__(self):\n",
    "        string = \"Unspent Transaction: \" + str(self.inp) + \"\\n\"\n",
    "        string += \"Index: \" + str(self.inpidx) + \"\\n\"\n",
    "        string += \"Transfer to: \" + str(self.outp) + \"\\n\"\n",
    "        string += \"Hash: \" + str(self.hash) + \"\\n\"\n",
    "        string += \"Signature: \" + str(self.sign)\n",
    "        return string"
   ]
  },
  {
   "cell_type": "code",
   "execution_count": 4,
   "metadata": {},
   "outputs": [],
   "source": [
    "# Hash unspent transaction milik B sebanyak 50 koin: 1a428822908b32a273d294ad9a2a30e79b4a812d5f79cb98b73f4c406a1a3643\n",
    "# Indeks dari UTXO di atas milik B: 0\n",
    "# Kunci privat B: 494958898825128152883083981490204250529\n",
    "# Alamat A: 498063637122669310186914979135247239947\n",
    "# Alamat B: 793833148500065718802366039211618163182\n",
    "\n",
    "inp = '1a428822908b32a273d294ad9a2a30e79b4a812d5f79cb98b73f4c406a1a3643' #hash transaksi yang mau dipakai\n",
    "inpidx = 0 #index dari transaksi input yang ingin dipakai\n",
    "inpkey = 494958898825128152883083981490204250529  #kunci privat yang diasosiasikan dengan address pelaku transaksi di atas\n",
    "O1 = 498063637122669310186914979135247239947 #alamat A\n",
    "O2 = 793833148500065718802366039211618163182 #alamat B\n",
    "outp = [[O1, 35], [O2, 15]] #address yang dituju beserta jumlah yang ingin ditransfer untuk masing-masing address\n",
    "transaction = Transaction(inp, inpidx, inpkey, outp)"
   ]
  },
  {
   "cell_type": "code",
   "execution_count": 5,
   "metadata": {},
   "outputs": [
    {
     "name": "stdout",
     "output_type": "stream",
     "text": [
      "Unspent Transaction: 1a428822908b32a273d294ad9a2a30e79b4a812d5f79cb98b73f4c406a1a3643\n",
      "Index: 0\n",
      "Transfer to: [[498063637122669310186914979135247239947, 35], [793833148500065718802366039211618163182, 15]]\n",
      "Hash: 3114d9838781b5d2ef9b9abaee6bc7e1531345098fcf109d7968e8710392c377\n",
      "Signature: [70960175482105270864450914338080137500, 3417003949243264545771660781961748864]\n"
     ]
    }
   ],
   "source": [
    "print(transaction)"
   ]
  },
  {
   "cell_type": "code",
   "execution_count": 6,
   "metadata": {},
   "outputs": [],
   "source": [
    "import openpyxl"
   ]
  },
  {
   "cell_type": "code",
   "execution_count": 7,
   "metadata": {},
   "outputs": [],
   "source": [
    "wb = openpyxl.load_workbook('awaiting.xlsx')\n",
    "ws = wb.worksheets[0]\n",
    "rows = [[str(transaction.inp),\n",
    "       str(transaction.inpidx),\n",
    "       str(transaction.outp),\n",
    "       str(transaction.hash),\n",
    "       str(transaction.sign)]]\n",
    "for row in rows:\n",
    "    ws.append(row)\n",
    "wb.save('awaiting.xlsx')"
   ]
  }
 ],
 "metadata": {
  "kernelspec": {
   "display_name": "Python 3",
   "language": "python",
   "name": "python3"
  },
  "language_info": {
   "codemirror_mode": {
    "name": "ipython",
    "version": 3
   },
   "file_extension": ".py",
   "mimetype": "text/x-python",
   "name": "python",
   "nbconvert_exporter": "python",
   "pygments_lexer": "ipython3",
   "version": "3.7.4"
  }
 },
 "nbformat": 4,
 "nbformat_minor": 2
}
