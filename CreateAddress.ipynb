{
 "cells": [
  {
   "cell_type": "code",
   "execution_count": 1,
   "metadata": {},
   "outputs": [
    {
     "name": "stdout",
     "output_type": "stream",
     "text": [
      "Your address:  247686779170034366557143912312509136161 \n",
      "Your private key:  155502889988157414713048991567409255940 \n",
      "Do not share your private key to anyone!\n"
     ]
    }
   ],
   "source": [
    "# Membuat address (Kuncil publik) beserta kunci privatnya\n",
    "\n",
    "from random import randint\n",
    "\n",
    "p = 1116674246425835791186763484099851270363\n",
    "q = 558337123212917895593381742049925635181\n",
    "g = 606189179136508625129240953541620883235\n",
    "\n",
    "a = randint(1, q-1)\n",
    "A = pow(g,a,p)\n",
    "print(\"Your address: \", A, \"\\nYour private key: \", a, \"\\nDo not share your private key to anyone!\")"
   ]
  },
  {
   "cell_type": "code",
   "execution_count": null,
   "metadata": {},
   "outputs": [],
   "source": [
    "#Pemain A\n",
    "#Your address:  498063637122669310186914979135247239947 \n",
    "#Your private key:  361673680473608126109674134178452992434 \n",
    "#Do not share your private key to anyone!"
   ]
  },
  {
   "cell_type": "code",
   "execution_count": 2,
   "metadata": {},
   "outputs": [],
   "source": [
    "#Pembuat blok genesis, misalkan B\n",
    "#Your address:  793833148500065718802366039211618163182 \n",
    "#Your private key:  494958898825128152883083981490204250529 \n",
    "#Do not share your private key to anyone!"
   ]
  },
  {
   "cell_type": "code",
   "execution_count": 6,
   "metadata": {},
   "outputs": [],
   "source": [
    "#Miner C\n",
    "#Your address:  1050044712949807662371953614880006555363 \n",
    "#Your private key:  369496142818372634830485004976076376795 \n",
    "#Do not share your private key to anyone!"
   ]
  },
  {
   "cell_type": "code",
   "execution_count": null,
   "metadata": {},
   "outputs": [],
   "source": [
    "#Miner D\n",
    "#Your address:  1018990969626984374120795560250705258983 \n",
    "#Your private key:  237043361745808634896709823243487876099\n",
    "#Do not share your private key to anyone!"
   ]
  },
  {
   "cell_type": "code",
   "execution_count": null,
   "metadata": {},
   "outputs": [],
   "source": [
    "#Miner E\n",
    "#Your address:  247686779170034366557143912312509136161 \n",
    "#Your private key:  155502889988157414713048991567409255940 \n",
    "#Do not share your private key to anyone!"
   ]
  }
 ],
 "metadata": {
  "kernelspec": {
   "display_name": "Python 3",
   "language": "python",
   "name": "python3"
  },
  "language_info": {
   "codemirror_mode": {
    "name": "ipython",
    "version": 3
   },
   "file_extension": ".py",
   "mimetype": "text/x-python",
   "name": "python",
   "nbconvert_exporter": "python",
   "pygments_lexer": "ipython3",
   "version": "3.7.4"
  }
 },
 "nbformat": 4,
 "nbformat_minor": 2
}
