{
 "cells": [
  {
   "cell_type": "code",
   "execution_count": 1,
   "metadata": {},
   "outputs": [],
   "source": [
    "from hashlib import sha256"
   ]
  },
  {
   "cell_type": "code",
   "execution_count": 2,
   "metadata": {},
   "outputs": [],
   "source": [
    "# Membuat blok genesis di mana 50 koin hasil mining dikirimkan ke alamat 793833148500065718802366039211618163182 \n",
    "\n",
    "inp = \"COINBASE\"\n",
    "outp = [[793833148500065718802366039211618163182, 50]]\n",
    "hash0 = sha256((str(inp)+str(outp)).encode('utf8')).hexdigest()"
   ]
  },
  {
   "cell_type": "code",
   "execution_count": 3,
   "metadata": {},
   "outputs": [],
   "source": [
    "from openpyxl import Workbook\n",
    "from openpyxl import load_workbook"
   ]
  },
  {
   "cell_type": "code",
   "execution_count": 4,
   "metadata": {},
   "outputs": [
    {
     "data": {
      "text/plain": [
       "'1a428822908b32a273d294ad9a2a30e79b4a812d5f79cb98b73f4c406a1a3643'"
      ]
     },
     "execution_count": 4,
     "metadata": {},
     "output_type": "execute_result"
    }
   ],
   "source": [
    "hash0"
   ]
  },
  {
   "cell_type": "code",
   "execution_count": 5,
   "metadata": {},
   "outputs": [],
   "source": [
    "book = Workbook()\n",
    "sheet = book.active\n",
    "\n",
    "sheet['A1'] = '-'\n",
    "sheet['B1'] = '-'\n",
    "sheet['A2'] = str(inp)\n",
    "sheet['B2'] = str(outp)\n",
    "sheet['C2'] = str(hash0)\n",
    "\n",
    "book.save(\"test1.xlsx\")"
   ]
  },
  {
   "cell_type": "code",
   "execution_count": 6,
   "metadata": {},
   "outputs": [],
   "source": [
    "with open(\"test1.xlsx\", \"rb\") as f:\n",
    "    bytes = f.read() # read entire file as bytes\n",
    "    block_hash = sha256(bytes).hexdigest()\n",
    "#Hash-nya tidak deterministik???\n",
    "#Ternyata deterministik, namun bergantung pada waktu pembuatan file juga"
   ]
  },
  {
   "cell_type": "code",
   "execution_count": 7,
   "metadata": {},
   "outputs": [
    {
     "data": {
      "text/plain": [
       "'131dbbce60547c93b8fdb80b973c62f0c471619a44ed46ed711f1470f7c6d0cc'"
      ]
     },
     "execution_count": 7,
     "metadata": {},
     "output_type": "execute_result"
    }
   ],
   "source": [
    "block_hash"
   ]
  },
  {
   "cell_type": "code",
   "execution_count": 8,
   "metadata": {},
   "outputs": [],
   "source": [
    "from os import rename\n",
    "from os import path\n",
    "from os import getcwd"
   ]
  },
  {
   "cell_type": "code",
   "execution_count": 9,
   "metadata": {},
   "outputs": [],
   "source": [
    "oldfile = path.join(getcwd(), \"test1.xlsx\")\n",
    "newfile = path.join(getcwd(), block_hash+\".xlsx\")\n",
    "rename(oldfile, newfile)"
   ]
  },
  {
   "cell_type": "code",
   "execution_count": 10,
   "metadata": {},
   "outputs": [],
   "source": [
    "#Membuat database unspent transactions\n",
    "\n",
    "book = Workbook()\n",
    "sheet = book.active\n",
    "\n",
    "sheet['A1'] = str(hash0)\n",
    "sheet['B1'] = str(outp)\n",
    "\n",
    "book.save(\"unspent.xlsx\")"
   ]
  },
  {
   "cell_type": "code",
   "execution_count": 11,
   "metadata": {},
   "outputs": [],
   "source": [
    "# Membuat blok baru yang hanya berisikan hash blok yang diciptakan di atas\n",
    "book = Workbook()\n",
    "sheet = book.active\n",
    "\n",
    "sheet['A1'] = block_hash\n",
    "\n",
    "book.save(\"newblock.xlsx\")"
   ]
  }
 ],
 "metadata": {
  "kernelspec": {
   "display_name": "Python 3",
   "language": "python",
   "name": "python3"
  },
  "language_info": {
   "codemirror_mode": {
    "name": "ipython",
    "version": 3
   },
   "file_extension": ".py",
   "mimetype": "text/x-python",
   "name": "python",
   "nbconvert_exporter": "python",
   "pygments_lexer": "ipython3",
   "version": "3.7.4"
  }
 },
 "nbformat": 4,
 "nbformat_minor": 2
}
