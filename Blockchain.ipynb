{
 "cells": [
  {
   "cell_type": "code",
   "execution_count": 1,
   "metadata": {},
   "outputs": [],
   "source": [
    "import xlrd\n",
    "import openpyxl"
   ]
  },
  {
   "cell_type": "code",
   "execution_count": 2,
   "metadata": {},
   "outputs": [
    {
     "name": "stdout",
     "output_type": "stream",
     "text": [
      "\n",
      "Block of hash 01d1935e490945ce774c048ff38bd3a56a3fcb57f9045a23340cfb6d4ce52355\n",
      "\n",
      "Hash of previous block: 131dbbce60547c93b8fdb80b973c62f0c471619a44ed46ed711f1470f7c6d0cc\n",
      "Nonce: 95.0\n",
      "\n",
      "Transaction 1\n",
      "From: 793833148500065718802366039211618163182\n",
      "To & Amount: [[498063637122669310186914979135247239947, 35], [793833148500065718802366039211618163182, 15]]\n",
      "Hash: 3114d9838781b5d2ef9b9abaee6bc7e1531345098fcf109d7968e8710392c377\n",
      "\n",
      "Transaction 2\n",
      "From: COINBASE\n",
      "To & Amount: [[1050044712949807662371953614880006555363, 25]]\n",
      "Hash: 1bbdfaaa54418b4a4f68e3287353d9ffee46d12f1af48e019769c1ec440cb156\n",
      "\n",
      "------------------------------------------------------------------------------------------------------------\n",
      "\n",
      "Block of hash 131dbbce60547c93b8fdb80b973c62f0c471619a44ed46ed711f1470f7c6d0cc\n",
      "\n",
      "Hash of previous block: -\n",
      "Nonce: -\n",
      "\n",
      "Transaction 1\n",
      "From: COINBASE\n",
      "To & Amount: [[793833148500065718802366039211618163182, 50]]\n",
      "Hash: 1a428822908b32a273d294ad9a2a30e79b4a812d5f79cb98b73f4c406a1a3643\n",
      "\n",
      "------------------------------------------------------------------------------------------------------------\n"
     ]
    }
   ],
   "source": [
    "# Mencetak seluruh blockchain dari blok terbaru hingga blok genesis/blok ke-0\n",
    "\n",
    "wb = openpyxl.load_workbook('newblock.xlsx')\n",
    "sheet = wb.worksheets[0]\n",
    "block_hash = sheet['A1'].value\n",
    "notEnd = True\n",
    "while notEnd:\n",
    "    wb = xlrd.open_workbook(block_hash + \".xlsx\")\n",
    "    sheet = wb.sheet_by_index(0)\n",
    "    printed_block = \"\\n\" + \"Block of hash \" + block_hash + \"\\n\" + \"\\n\"\n",
    "    printed_block += \"Hash of previous block: \" + sheet.row_values(0)[0] + \"\\n\"\n",
    "    block_hash = sheet.row_values(0)[0]\n",
    "    if block_hash == '-':\n",
    "        notEnd = False\n",
    "    printed_block += \"Nonce: \" + str(sheet.row_values(0)[1]) + \"\\n\"\n",
    "    for row in range(1, sheet.nrows):\n",
    "        printed_block += \"\\n\" + \"Transaction \" + str(row) + \"\\n\"\n",
    "        printed_block += \"From: \" + str(sheet.row_values(row)[0]) + \"\\n\"\n",
    "        printed_block += \"To & Amount: \" + str(sheet.row_values(row)[1]) + \"\\n\"\n",
    "        printed_block += \"Hash: \" + sheet.row_values(row)[2] + \"\\n\"\n",
    "    printed_block += \"\\n\" + \"------------------------------------------------------------------------------------------------------------\"\n",
    "    print(printed_block)"
   ]
  }
 ],
 "metadata": {
  "kernelspec": {
   "display_name": "Python 3",
   "language": "python",
   "name": "python3"
  },
  "language_info": {
   "codemirror_mode": {
    "name": "ipython",
    "version": 3
   },
   "file_extension": ".py",
   "mimetype": "text/x-python",
   "name": "python",
   "nbconvert_exporter": "python",
   "pygments_lexer": "ipython3",
   "version": "3.7.4"
  }
 },
 "nbformat": 4,
 "nbformat_minor": 2
}
